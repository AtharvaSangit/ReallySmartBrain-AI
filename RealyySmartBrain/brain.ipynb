{
 "cells": [
  {
   "cell_type": "code",
   "execution_count": 7,
   "id": "9190bae9",
   "metadata": {},
   "outputs": [
    {
     "name": "stdout",
     "output_type": "stream",
     "text": [
      "Requirement already satisfied: cython in d:\\atharva\\anaconda\\lib\\site-packages (from -r requirements.txt (line 1)) (0.29.32)\n",
      "Requirement already satisfied: pillow>=7.0.0 in d:\\atharva\\anaconda\\lib\\site-packages (from -r requirements.txt (line 2)) (9.2.0)\n",
      "Requirement already satisfied: numpy>=1.18.1 in d:\\atharva\\anaconda\\lib\\site-packages (from -r requirements.txt (line 3)) (1.21.5)\n",
      "Requirement already satisfied: opencv-python>=4.1.2 in d:\\atharva\\anaconda\\lib\\site-packages (from -r requirements.txt (line 4)) (4.7.0.72)\n",
      "Requirement already satisfied: torch>=1.9.0 in d:\\atharva\\anaconda\\lib\\site-packages (from -r requirements.txt (line 5)) (1.13.1)\n",
      "Requirement already satisfied: torchvision>=0.10.0 in d:\\atharva\\anaconda\\lib\\site-packages (from -r requirements.txt (line 6)) (0.14.1)\n",
      "Requirement already satisfied: pytest==7.1.3 in d:\\atharva\\anaconda\\lib\\site-packages (from -r requirements.txt (line 7)) (7.1.3)\n",
      "Requirement already satisfied: tqdm==4.64.1 in d:\\atharva\\anaconda\\lib\\site-packages (from -r requirements.txt (line 8)) (4.64.1)\n",
      "Requirement already satisfied: scipy>=1.7.3 in d:\\atharva\\anaconda\\lib\\site-packages (from -r requirements.txt (line 9)) (1.9.1)\n",
      "Requirement already satisfied: matplotlib>=3.4.3 in d:\\atharva\\anaconda\\lib\\site-packages (from -r requirements.txt (line 10)) (3.5.2)\n",
      "Requirement already satisfied: mock==4.0.3 in d:\\atharva\\anaconda\\lib\\site-packages (from -r requirements.txt (line 11)) (4.0.3)\n",
      "Requirement already satisfied: attrs>=19.2.0 in d:\\atharva\\anaconda\\lib\\site-packages (from pytest==7.1.3->-r requirements.txt (line 7)) (21.4.0)\n",
      "Requirement already satisfied: pluggy<2.0,>=0.12 in d:\\atharva\\anaconda\\lib\\site-packages (from pytest==7.1.3->-r requirements.txt (line 7)) (1.0.0)\n",
      "Requirement already satisfied: iniconfig in d:\\atharva\\anaconda\\lib\\site-packages (from pytest==7.1.3->-r requirements.txt (line 7)) (1.1.1)\n",
      "Requirement already satisfied: tomli>=1.0.0 in d:\\atharva\\anaconda\\lib\\site-packages (from pytest==7.1.3->-r requirements.txt (line 7)) (2.0.1)\n",
      "Requirement already satisfied: packaging in d:\\atharva\\anaconda\\lib\\site-packages (from pytest==7.1.3->-r requirements.txt (line 7)) (21.3)\n",
      "Requirement already satisfied: py>=1.8.2 in d:\\atharva\\anaconda\\lib\\site-packages (from pytest==7.1.3->-r requirements.txt (line 7)) (1.11.0)\n",
      "Requirement already satisfied: colorama in d:\\atharva\\anaconda\\lib\\site-packages (from pytest==7.1.3->-r requirements.txt (line 7)) (0.4.5)\n",
      "Requirement already satisfied: typing-extensions in d:\\atharva\\anaconda\\lib\\site-packages (from torch>=1.9.0->-r requirements.txt (line 5)) (4.3.0)\n",
      "Requirement already satisfied: requests in d:\\atharva\\anaconda\\lib\\site-packages (from torchvision>=0.10.0->-r requirements.txt (line 6)) (2.28.1)\n",
      "Requirement already satisfied: fonttools>=4.22.0 in d:\\atharva\\anaconda\\lib\\site-packages (from matplotlib>=3.4.3->-r requirements.txt (line 10)) (4.25.0)\n",
      "Requirement already satisfied: cycler>=0.10 in d:\\atharva\\anaconda\\lib\\site-packages (from matplotlib>=3.4.3->-r requirements.txt (line 10)) (0.11.0)\n",
      "Requirement already satisfied: pyparsing>=2.2.1 in d:\\atharva\\anaconda\\lib\\site-packages (from matplotlib>=3.4.3->-r requirements.txt (line 10)) (3.0.9)\n",
      "Requirement already satisfied: kiwisolver>=1.0.1 in d:\\atharva\\anaconda\\lib\\site-packages (from matplotlib>=3.4.3->-r requirements.txt (line 10)) (1.4.2)\n",
      "Requirement already satisfied: python-dateutil>=2.7 in d:\\atharva\\anaconda\\lib\\site-packages (from matplotlib>=3.4.3->-r requirements.txt (line 10)) (2.8.2)\n",
      "Requirement already satisfied: six>=1.5 in d:\\atharva\\anaconda\\lib\\site-packages (from python-dateutil>=2.7->matplotlib>=3.4.3->-r requirements.txt (line 10)) (1.16.0)\n",
      "Requirement already satisfied: urllib3<1.27,>=1.21.1 in d:\\atharva\\anaconda\\lib\\site-packages (from requests->torchvision>=0.10.0->-r requirements.txt (line 6)) (1.26.11)\n",
      "Requirement already satisfied: certifi>=2017.4.17 in d:\\atharva\\anaconda\\lib\\site-packages (from requests->torchvision>=0.10.0->-r requirements.txt (line 6)) (2022.9.14)\n",
      "Requirement already satisfied: idna<4,>=2.5 in d:\\atharva\\anaconda\\lib\\site-packages (from requests->torchvision>=0.10.0->-r requirements.txt (line 6)) (3.3)\n",
      "Requirement already satisfied: charset-normalizer<3,>=2 in d:\\atharva\\anaconda\\lib\\site-packages (from requests->torchvision>=0.10.0->-r requirements.txt (line 6)) (2.0.4)\n",
      "Note: you may need to restart the kernel to use updated packages.\n"
     ]
    }
   ],
   "source": [
    "pip install -r requirements.txt\n"
   ]
  },
  {
   "cell_type": "code",
   "execution_count": 3,
   "id": "9b86a311",
   "metadata": {},
   "outputs": [
    {
     "ename": "ModuleNotFoundError",
     "evalue": "No module named 'imageai'",
     "output_type": "error",
     "traceback": [
      "\u001b[1;31m---------------------------------------------------------------------------\u001b[0m",
      "\u001b[1;31mModuleNotFoundError\u001b[0m                       Traceback (most recent call last)",
      "\u001b[1;32m~\\AppData\\Local\\Temp\\ipykernel_15568\\2216397466.py\u001b[0m in \u001b[0;36m<module>\u001b[1;34m\u001b[0m\n\u001b[1;32m----> 1\u001b[1;33m \u001b[1;32mfrom\u001b[0m \u001b[0mimageai\u001b[0m\u001b[1;33m.\u001b[0m\u001b[0mClassification\u001b[0m \u001b[1;32mimport\u001b[0m \u001b[0mImageClassification\u001b[0m\u001b[1;33m\u001b[0m\u001b[1;33m\u001b[0m\u001b[0m\n\u001b[0m\u001b[0;32m      2\u001b[0m \u001b[1;32mimport\u001b[0m \u001b[0mos\u001b[0m\u001b[1;33m\u001b[0m\u001b[1;33m\u001b[0m\u001b[0m\n\u001b[0;32m      3\u001b[0m \u001b[1;33m\u001b[0m\u001b[0m\n\u001b[0;32m      4\u001b[0m \u001b[0mexecution_path\u001b[0m \u001b[1;33m=\u001b[0m \u001b[0mos\u001b[0m\u001b[1;33m.\u001b[0m\u001b[0mgetcwd\u001b[0m\u001b[1;33m(\u001b[0m\u001b[1;33m)\u001b[0m\u001b[1;33m\u001b[0m\u001b[1;33m\u001b[0m\u001b[0m\n\u001b[0;32m      5\u001b[0m \u001b[1;33m\u001b[0m\u001b[0m\n",
      "\u001b[1;31mModuleNotFoundError\u001b[0m: No module named 'imageai'"
     ]
    }
   ],
   "source": [
    "from imageai.Classification import ImageClassification\n",
    "import os\n",
    "\n",
    "execution_path = os.getcwd()\n",
    "\n",
    "prediction = ImageClassification()\n",
    "prediction.setModelTypeAsMobileNetV2()\n",
    "prediction.setModelPath(os.path.join(execution_path, \"mobilenet_v2-b0353104.pth\"))\n",
    "prediction.loadModel()\n",
    "\n",
    "predictions, probabilities = prediction.classifyImage(os.path.join(execution_path, \"giraffe.jpg\"), result_count=5 )\n",
    "for eachPrediction, eachProbability in zip(predictions, probabilities):\n",
    "    print(eachPrediction , \" : \" , eachProbability)"
   ]
  },
  {
   "cell_type": "code",
   "execution_count": 10,
   "id": "0baf32f2",
   "metadata": {},
   "outputs": [
    {
     "name": "stdout",
     "output_type": "stream",
     "text": [
      "Collecting imageai\n",
      "  Using cached imageai-3.0.3-py3-none-any.whl (69 kB)\n",
      "Installing collected packages: imageai\n",
      "Successfully installed imageai-3.0.3\n",
      "Note: you may need to restart the kernel to use updated packages.\n"
     ]
    }
   ],
   "source": [
    "pip install imageai -U"
   ]
  },
  {
   "cell_type": "code",
   "execution_count": 14,
   "id": "9e02550e",
   "metadata": {},
   "outputs": [
    {
     "name": "stdout",
     "output_type": "stream",
     "text": [
      "buckeye  :  8.7474\n",
      "lakeside  :  8.0496\n",
      "obelisk  :  6.4402\n",
      "stone wall  :  4.884\n",
      "thatch  :  4.3673\n"
     ]
    }
   ],
   "source": [
    "from imageai.Classification import ImageClassification\n",
    "import os\n",
    "\n",
    "execution_path = os.getcwd()\n",
    "\n",
    "prediction = ImageClassification()\n",
    "prediction.setModelTypeAsMobileNetV2()\n",
    "prediction.setModelPath(os.path.join(execution_path, \"mobilenet_v2-b0353104.pth\"))\n",
    "prediction.loadModel()\n",
    "\n",
    "predictions, probabilities = prediction.classifyImage(os.path.join(execution_path, \"tree.jpg\"), result_count=5 )\n",
    "for eachPrediction, eachProbability in zip(predictions, probabilities):\n",
    "    print(eachPrediction , \" : \" , eachProbability)"
   ]
  },
  {
   "cell_type": "code",
   "execution_count": null,
   "id": "4849723f",
   "metadata": {},
   "outputs": [],
   "source": []
  }
 ],
 "metadata": {
  "kernelspec": {
   "display_name": "Python 3 (ipykernel)",
   "language": "python",
   "name": "python3"
  },
  "language_info": {
   "codemirror_mode": {
    "name": "ipython",
    "version": 3
   },
   "file_extension": ".py",
   "mimetype": "text/x-python",
   "name": "python",
   "nbconvert_exporter": "python",
   "pygments_lexer": "ipython3",
   "version": "3.9.13"
  }
 },
 "nbformat": 4,
 "nbformat_minor": 5
}
